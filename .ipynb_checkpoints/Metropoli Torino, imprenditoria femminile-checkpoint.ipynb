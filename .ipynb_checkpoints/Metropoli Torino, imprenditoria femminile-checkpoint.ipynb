{
 "cells": [
  {
   "cell_type": "markdown",
   "metadata": {},
   "source": [
    "##importazione librerie"
   ]
  },
  {
   "cell_type": "code",
   "execution_count": 40,
   "metadata": {
    "collapsed": true
   },
   "outputs": [],
   "source": [
    "import os\n",
    "import pandas as pd\n",
    "import urllib"
   ]
  },
  {
   "cell_type": "markdown",
   "metadata": {},
   "source": [
    "##importazione dati"
   ]
  },
  {
   "cell_type": "code",
   "execution_count": 41,
   "metadata": {
    "collapsed": true
   },
   "outputs": [],
   "source": [
    "url_dati_2011_ateco = \"http://www.dati.piemonte.it/catalogodati/scarica.html?idallegato=302\"\n",
    "url_dati_2013_ateco = \"http://www.dati.piemonte.it/catalogodati/scarica.html?idallegato=760\""
   ]
  },
  {
   "cell_type": "code",
   "execution_count": 42,
   "metadata": {
    "collapsed": false
   },
   "outputs": [
    {
     "data": {
      "text/plain": [
       "('dati_2013_ateco.csv', <httplib.HTTPMessage instance at 0x000000000AAD1308>)"
      ]
     },
     "execution_count": 42,
     "metadata": {},
     "output_type": "execute_result"
    }
   ],
   "source": [
    "urllib.urlretrieve (url_dati_2011_ateco, \"dati_2011_ateco.csv\")\n",
    "urllib.urlretrieve (url_dati_2013_ateco, \"dati_2013_ateco.csv\")"
   ]
  },
  {
   "cell_type": "code",
   "execution_count": 43,
   "metadata": {
    "collapsed": false
   },
   "outputs": [],
   "source": [
    "with open(\"dati_2011_ateco.csv\", \"r\") as dati:\n",
    "    dati = dati.read()\n",
    "    dati = dati.replace(\".\", \"\")\n",
    "with open(\"dati_2011_ateco.csv\", \"w\") as dati2:\n",
    "    dati2.write(dati)\n",
    "    \n",
    "with open(\"dati_2013_ateco.csv\", \"r\") as dati:\n",
    "    dati = dati.read()\n",
    "    dati = dati.replace(\".\", \"\")\n",
    "with open(\"dati_2013_ateco.csv\", \"w\") as dati2:\n",
    "    dati2.write(dati)    "
   ]
  },
  {
   "cell_type": "code",
   "execution_count": null,
   "metadata": {
    "collapsed": true
   },
   "outputs": [],
   "source": []
  },
  {
   "cell_type": "code",
   "execution_count": 44,
   "metadata": {
    "collapsed": false
   },
   "outputs": [],
   "source": [
    "dati_2011_ateco = pd.read_csv(\"dati_2011_ateco.csv\", sep=\";\")\n",
    "dati_2013_ateco = pd.read_csv(\"dati_2013_ateco.csv\", sep=\";\")"
   ]
  },
  {
   "cell_type": "code",
   "execution_count": null,
   "metadata": {
    "collapsed": false
   },
   "outputs": [],
   "source": []
  },
  {
   "cell_type": "markdown",
   "metadata": {},
   "source": [
    "##Variazione percentuale 2013/2011"
   ]
  },
  {
   "cell_type": "code",
   "execution_count": 45,
   "metadata": {
    "collapsed": false
   },
   "outputs": [],
   "source": [
    "variazione_percentuale = dati_2013_ateco.groupby(\"Codice provincia\").sum() / dati_2011_ateco.groupby(\"Codice provincia\").sum() * 100 - 100"
   ]
  },
  {
   "cell_type": "code",
   "execution_count": 46,
   "metadata": {
    "collapsed": false
   },
   "outputs": [
    {
     "data": {
      "text/html": [
       "<div style=\"max-height:1000px;max-width:1500px;overflow:auto;\">\n",
       "<table border=\"1\" class=\"dataframe\">\n",
       "  <thead>\n",
       "    <tr style=\"text-align: right;\">\n",
       "      <th></th>\n",
       "      <th>Agricoltura</th>\n",
       "      <th>Industria in senso stretto</th>\n",
       "      <th>Costruzioni</th>\n",
       "      <th>Commercio</th>\n",
       "      <th>Turismo</th>\n",
       "      <th>Altri servizi</th>\n",
       "      <th>Imprese non classificate</th>\n",
       "      <th>Totale imprese</th>\n",
       "    </tr>\n",
       "    <tr>\n",
       "      <th>Codice provincia</th>\n",
       "      <th></th>\n",
       "      <th></th>\n",
       "      <th></th>\n",
       "      <th></th>\n",
       "      <th></th>\n",
       "      <th></th>\n",
       "      <th></th>\n",
       "      <th></th>\n",
       "    </tr>\n",
       "  </thead>\n",
       "  <tbody>\n",
       "    <tr>\n",
       "      <th>1  </th>\n",
       "      <td> -7.897410</td>\n",
       "      <td> -1.619048</td>\n",
       "      <td> 1.074807</td>\n",
       "      <td>-4.307073</td>\n",
       "      <td> 6.354075</td>\n",
       "      <td> 1.596502</td>\n",
       "      <td> -8.165032</td>\n",
       "      <td>-1.370886</td>\n",
       "    </tr>\n",
       "    <tr>\n",
       "      <th>2  </th>\n",
       "      <td> -9.195402</td>\n",
       "      <td>  0.588235</td>\n",
       "      <td> 5.882353</td>\n",
       "      <td>-2.741703</td>\n",
       "      <td> 1.237113</td>\n",
       "      <td>-1.253133</td>\n",
       "      <td>-14.193548</td>\n",
       "      <td>-2.534944</td>\n",
       "    </tr>\n",
       "    <tr>\n",
       "      <th>3  </th>\n",
       "      <td> -2.876106</td>\n",
       "      <td> -1.932367</td>\n",
       "      <td> 5.074627</td>\n",
       "      <td>-0.329877</td>\n",
       "      <td> 7.114625</td>\n",
       "      <td> 1.373932</td>\n",
       "      <td> -5.594406</td>\n",
       "      <td> 0.749164</td>\n",
       "    </tr>\n",
       "    <tr>\n",
       "      <th>4  </th>\n",
       "      <td> -8.803222</td>\n",
       "      <td> -1.668405</td>\n",
       "      <td> 1.949318</td>\n",
       "      <td>-2.130565</td>\n",
       "      <td> 2.975207</td>\n",
       "      <td> 2.093986</td>\n",
       "      <td> -8.108108</td>\n",
       "      <td>-3.398605</td>\n",
       "    </tr>\n",
       "    <tr>\n",
       "      <th>5  </th>\n",
       "      <td>-13.778878</td>\n",
       "      <td>  5.917160</td>\n",
       "      <td> 8.695652</td>\n",
       "      <td>-3.006993</td>\n",
       "      <td> 6.352941</td>\n",
       "      <td> 2.859185</td>\n",
       "      <td>-14.492754</td>\n",
       "      <td>-4.744810</td>\n",
       "    </tr>\n",
       "    <tr>\n",
       "      <th>6  </th>\n",
       "      <td>-14.156898</td>\n",
       "      <td> -2.027748</td>\n",
       "      <td> 1.057082</td>\n",
       "      <td>-2.479339</td>\n",
       "      <td> 8.847737</td>\n",
       "      <td> 2.095059</td>\n",
       "      <td> -4.491726</td>\n",
       "      <td>-3.447997</td>\n",
       "    </tr>\n",
       "    <tr>\n",
       "      <th>96 </th>\n",
       "      <td> -0.571429</td>\n",
       "      <td> -6.019417</td>\n",
       "      <td> 3.787879</td>\n",
       "      <td>-3.140917</td>\n",
       "      <td> 3.316327</td>\n",
       "      <td>-0.291375</td>\n",
       "      <td>  2.232143</td>\n",
       "      <td>-1.153761</td>\n",
       "    </tr>\n",
       "    <tr>\n",
       "      <th>103</th>\n",
       "      <td>-15.018315</td>\n",
       "      <td>-10.476190</td>\n",
       "      <td>-8.387097</td>\n",
       "      <td>-3.316062</td>\n",
       "      <td> 5.325444</td>\n",
       "      <td> 4.205128</td>\n",
       "      <td>  6.422018</td>\n",
       "      <td>-1.333737</td>\n",
       "    </tr>\n",
       "  </tbody>\n",
       "</table>\n",
       "</div>"
      ],
      "text/plain": [
       "                  Agricoltura  Industria in senso stretto  Costruzioni  \\\n",
       "Codice provincia                                                         \n",
       "1                   -7.897410                   -1.619048     1.074807   \n",
       "2                   -9.195402                    0.588235     5.882353   \n",
       "3                   -2.876106                   -1.932367     5.074627   \n",
       "4                   -8.803222                   -1.668405     1.949318   \n",
       "5                  -13.778878                    5.917160     8.695652   \n",
       "6                  -14.156898                   -2.027748     1.057082   \n",
       "96                  -0.571429                   -6.019417     3.787879   \n",
       "103                -15.018315                  -10.476190    -8.387097   \n",
       "\n",
       "                  Commercio   Turismo  Altri servizi  \\\n",
       "Codice provincia                                       \n",
       "1                 -4.307073  6.354075       1.596502   \n",
       "2                 -2.741703  1.237113      -1.253133   \n",
       "3                 -0.329877  7.114625       1.373932   \n",
       "4                 -2.130565  2.975207       2.093986   \n",
       "5                 -3.006993  6.352941       2.859185   \n",
       "6                 -2.479339  8.847737       2.095059   \n",
       "96                -3.140917  3.316327      -0.291375   \n",
       "103               -3.316062  5.325444       4.205128   \n",
       "\n",
       "                  Imprese non classificate  Totale imprese  \n",
       "Codice provincia                                            \n",
       "1                                -8.165032       -1.370886  \n",
       "2                               -14.193548       -2.534944  \n",
       "3                                -5.594406        0.749164  \n",
       "4                                -8.108108       -3.398605  \n",
       "5                               -14.492754       -4.744810  \n",
       "6                                -4.491726       -3.447997  \n",
       "96                                2.232143       -1.153761  \n",
       "103                               6.422018       -1.333737  "
      ]
     },
     "execution_count": 46,
     "metadata": {},
     "output_type": "execute_result"
    }
   ],
   "source": [
    "variazione_percentuale.drop(\"Codice comune\", axis = 1)"
   ]
  },
  {
   "cell_type": "markdown",
   "metadata": {
    "collapsed": true
   },
   "source": [
    "##Variazione percentuale 2013/2011 provincia di Torino"
   ]
  },
  {
   "cell_type": "code",
   "execution_count": 47,
   "metadata": {
    "collapsed": false
   },
   "outputs": [
    {
     "data": {
      "text/plain": [
       "Codice comune                 0.000000\n",
       "Agricoltura                  -7.897410\n",
       "Industria in senso stretto   -1.619048\n",
       "Costruzioni                   1.074807\n",
       "Commercio                    -4.307073\n",
       "Turismo                       6.354075\n",
       "Altri servizi                 1.596502\n",
       "Imprese non classificate     -8.165032\n",
       "Totale imprese               -1.370886\n",
       "Name: 1.0, dtype: float64"
      ]
     },
     "execution_count": 47,
     "metadata": {},
     "output_type": "execute_result"
    }
   ],
   "source": [
    "variazione_percentuale.loc[1]"
   ]
  },
  {
   "cell_type": "markdown",
   "metadata": {
    "collapsed": true
   },
   "source": [
    "##Composizione percentuale dell'imprenditoria femminile per settore"
   ]
  },
  {
   "cell_type": "code",
   "execution_count": 48,
   "metadata": {
    "collapsed": false
   },
   "outputs": [],
   "source": [
    "composizione_2013 = dati_2013_ateco.groupby(\"Codice provincia\").sum().drop(\"Codice comune\", axis = 1)"
   ]
  },
  {
   "cell_type": "code",
   "execution_count": 49,
   "metadata": {
    "collapsed": false
   },
   "outputs": [
    {
     "data": {
      "text/plain": [
       "Agricoltura                     6.538670\n",
       "Industria in senso stretto      7.449072\n",
       "Costruzioni                     4.238327\n",
       "Commercio                      30.000000\n",
       "Turismo                         8.750676\n",
       "Altri servizi                  37.285019\n",
       "Imprese non classificate        5.738237\n",
       "Totale imprese                100.000000\n",
       "Name: 1.0, dtype: float64"
      ]
     },
     "execution_count": 49,
     "metadata": {},
     "output_type": "execute_result"
    }
   ],
   "source": [
    "(composizione_2013.divide(composizione_2013[\"Totale imprese\"], axis= 0) * 100).loc[1]"
   ]
  },
  {
   "cell_type": "markdown",
   "metadata": {},
   "source": [
    "##valori assoluti 2011 - Torino"
   ]
  },
  {
   "cell_type": "code",
   "execution_count": 52,
   "metadata": {
    "collapsed": false
   },
   "outputs": [
    {
     "data": {
      "text/plain": [
       "Agricoltura                    3938\n",
       "Industria in senso stretto     4200\n",
       "Costruzioni                    2326\n",
       "Commercio                     17390\n",
       "Turismo                        4564\n",
       "Altri servizi                 20357\n",
       "Imprese non classificate       3466\n",
       "Totale imprese                56241\n",
       "Name: 1.0, dtype: float64"
      ]
     },
     "execution_count": 52,
     "metadata": {},
     "output_type": "execute_result"
    }
   ],
   "source": [
    "dati_2011_ateco.groupby(\"Codice provincia\").sum().drop(\"Codice comune\", axis = 1).loc[1]"
   ]
  },
  {
   "cell_type": "markdown",
   "metadata": {
    "collapsed": true
   },
   "source": [
    "##valori assoluti 2013 - Torino"
   ]
  },
  {
   "cell_type": "code",
   "execution_count": 51,
   "metadata": {
    "collapsed": false,
    "scrolled": true
   },
   "outputs": [
    {
     "data": {
      "text/plain": [
       "Agricoltura                    3627\n",
       "Industria in senso stretto     4132\n",
       "Costruzioni                    2351\n",
       "Commercio                     16641\n",
       "Turismo                        4854\n",
       "Altri servizi                 20682\n",
       "Imprese non classificate       3183\n",
       "Totale imprese                55470\n",
       "Name: 1.0, dtype: float64"
      ]
     },
     "execution_count": 51,
     "metadata": {},
     "output_type": "execute_result"
    }
   ],
   "source": [
    "dati_2013_ateco.groupby(\"Codice provincia\").sum().drop(\"Codice comune\", axis = 1).loc[1]"
   ]
  },
  {
   "cell_type": "code",
   "execution_count": null,
   "metadata": {
    "collapsed": true
   },
   "outputs": [],
   "source": []
  }
 ],
 "metadata": {
  "kernelspec": {
   "display_name": "Python 2",
   "language": "python",
   "name": "python2"
  },
  "language_info": {
   "codemirror_mode": {
    "name": "ipython",
    "version": 2
   },
   "file_extension": ".py",
   "mimetype": "text/x-python",
   "name": "python",
   "nbconvert_exporter": "python",
   "pygments_lexer": "ipython2",
   "version": "2.7.11"
  }
 },
 "nbformat": 4,
 "nbformat_minor": 0
}

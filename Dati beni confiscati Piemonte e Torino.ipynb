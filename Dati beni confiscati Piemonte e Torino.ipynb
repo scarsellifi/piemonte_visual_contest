{
 "cells": [
  {
   "cell_type": "code",
   "execution_count": 1,
   "metadata": {
    "collapsed": true
   },
   "outputs": [],
   "source": [
    "import os\n",
    "import pandas as pd\n",
    "import urllib"
   ]
  },
  {
   "cell_type": "code",
   "execution_count": 7,
   "metadata": {
    "collapsed": true
   },
   "outputs": [],
   "source": [
    "##Importazione dati da Confiscatibene.it"
   ]
  },
  {
   "cell_type": "code",
   "execution_count": 2,
   "metadata": {
    "collapsed": false
   },
   "outputs": [
    {
     "data": {
      "text/plain": [
       "('confiscatibene_per_stato.csv',\n",
       " <httplib.HTTPMessage instance at 0x000000000A906A08>)"
      ]
     },
     "execution_count": 2,
     "metadata": {},
     "output_type": "execute_result"
    }
   ],
   "source": [
    "confiscatibene_per_stato = \"http://www.confiscatibene.it/sites/default/files/20140721_confiscatibene_beni-per-provincia-e-stato_anbsc.csv\"\n",
    "urllib.urlretrieve(confiscatibene_per_stato, \"confiscatibene_per_stato.csv\")\n"
   ]
  },
  {
   "cell_type": "code",
   "execution_count": 4,
   "metadata": {
    "collapsed": false
   },
   "outputs": [],
   "source": [
    "df_confiscatibene_per_stato = pd.read_csv(\"confiscatibene_per_stato.csv\", sep=\",\")"
   ]
  },
  {
   "cell_type": "code",
   "execution_count": 19,
   "metadata": {
    "collapsed": false
   },
   "outputs": [],
   "source": [
    "Torino = df_confiscatibene_per_stato[df_confiscatibene_per_stato[\"Provincia\"] == \"Torino\"]\n",
    "Torino_immobili = Torino[[\"Regione\",\n",
    "                      \"Provincia\",\n",
    "                      \"Immobili destinati consegnati\",\n",
    "                      \"Immobili destinati non consegnati\",\n",
    "                      \"Immobili in gestione\",\n",
    "                      \"Immobili non confiscati in via autonoma\",\n",
    "                      \"Immobili usciti dalla gestione\",\n",
    "                      \"Totale immobili\"]]\n"
   ]
  },
  {
   "cell_type": "code",
   "execution_count": 20,
   "metadata": {
    "collapsed": false
   },
   "outputs": [
    {
     "data": {
      "text/html": [
       "<div style=\"max-height:1000px;max-width:1500px;overflow:auto;\">\n",
       "<table border=\"1\" class=\"dataframe\">\n",
       "  <thead>\n",
       "    <tr style=\"text-align: right;\">\n",
       "      <th></th>\n",
       "      <th>Regione</th>\n",
       "      <th>Provincia</th>\n",
       "      <th>Immobili destinati consegnati</th>\n",
       "      <th>Immobili destinati non consegnati</th>\n",
       "      <th>Immobili in gestione</th>\n",
       "      <th>Immobili non confiscati in via autonoma</th>\n",
       "      <th>Immobili usciti dalla gestione</th>\n",
       "      <th>Totale immobili</th>\n",
       "    </tr>\n",
       "  </thead>\n",
       "  <tbody>\n",
       "    <tr>\n",
       "      <th>0</th>\n",
       "      <td> Piemonte</td>\n",
       "      <td> Torino</td>\n",
       "      <td> 58</td>\n",
       "      <td> 13</td>\n",
       "      <td> 49</td>\n",
       "      <td> 0</td>\n",
       "      <td> 5</td>\n",
       "      <td> 125</td>\n",
       "    </tr>\n",
       "  </tbody>\n",
       "</table>\n",
       "</div>"
      ],
      "text/plain": [
       "    Regione Provincia  Immobili destinati consegnati  \\\n",
       "0  Piemonte    Torino                             58   \n",
       "\n",
       "   Immobili destinati non consegnati  Immobili in gestione  \\\n",
       "0                                 13                    49   \n",
       "\n",
       "   Immobili non confiscati in via autonoma  Immobili usciti dalla gestione  \\\n",
       "0                                        0                               5   \n",
       "\n",
       "   Totale immobili  \n",
       "0              125  "
      ]
     },
     "execution_count": 20,
     "metadata": {},
     "output_type": "execute_result"
    }
   ],
   "source": [
    "Torino_immobili"
   ]
  },
  {
   "cell_type": "code",
   "execution_count": 16,
   "metadata": {
    "collapsed": false
   },
   "outputs": [],
   "source": [
    "Torino_aziende = Torino[[\"Regione\",\n",
    "                \"Provincia\",\n",
    "                \"Aziende in gestione\",\n",
    "                \"Aziende uscite dalla gestione\",\n",
    "                \"Totale aziende\"]]"
   ]
  },
  {
   "cell_type": "code",
   "execution_count": 17,
   "metadata": {
    "collapsed": false
   },
   "outputs": [
    {
     "data": {
      "text/html": [
       "<div style=\"max-height:1000px;max-width:1500px;overflow:auto;\">\n",
       "<table border=\"1\" class=\"dataframe\">\n",
       "  <thead>\n",
       "    <tr style=\"text-align: right;\">\n",
       "      <th></th>\n",
       "      <th>Regione</th>\n",
       "      <th>Provincia</th>\n",
       "      <th>Aziende in gestione</th>\n",
       "      <th>Aziende uscite dalla gestione</th>\n",
       "      <th>Totale aziende</th>\n",
       "    </tr>\n",
       "  </thead>\n",
       "  <tbody>\n",
       "    <tr>\n",
       "      <th>0</th>\n",
       "      <td> Piemonte</td>\n",
       "      <td> Torino</td>\n",
       "      <td> 5</td>\n",
       "      <td> 5</td>\n",
       "      <td> 10</td>\n",
       "    </tr>\n",
       "  </tbody>\n",
       "</table>\n",
       "</div>"
      ],
      "text/plain": [
       "    Regione Provincia  Aziende in gestione  Aziende uscite dalla gestione  \\\n",
       "0  Piemonte    Torino                    5                              5   \n",
       "\n",
       "   Totale aziende  \n",
       "0              10  "
      ]
     },
     "execution_count": 17,
     "metadata": {},
     "output_type": "execute_result"
    }
   ],
   "source": [
    "Torino_aziende"
   ]
  },
  {
   "cell_type": "code",
   "execution_count": 23,
   "metadata": {
    "collapsed": true
   },
   "outputs": [],
   "source": [
    "Piemonte = (df_confiscatibene_per_stato[df_confiscatibene_per_stato[\"Regione\"] == \"Piemonte\"]).groupby([\"Regione\"]).sum()"
   ]
  },
  {
   "cell_type": "code",
   "execution_count": 25,
   "metadata": {
    "collapsed": false
   },
   "outputs": [],
   "source": [
    "Piemonte_immobili = Piemonte[[\"Immobili destinati consegnati\",\n",
    "                      \"Immobili destinati non consegnati\",\n",
    "                      \"Immobili in gestione\",\n",
    "                      \"Immobili non confiscati in via autonoma\",\n",
    "                      \"Immobili usciti dalla gestione\",\n",
    "                      \"Totale immobili\"]]"
   ]
  },
  {
   "cell_type": "code",
   "execution_count": 26,
   "metadata": {
    "collapsed": false
   },
   "outputs": [
    {
     "data": {
      "text/html": [
       "<div style=\"max-height:1000px;max-width:1500px;overflow:auto;\">\n",
       "<table border=\"1\" class=\"dataframe\">\n",
       "  <thead>\n",
       "    <tr style=\"text-align: right;\">\n",
       "      <th></th>\n",
       "      <th>Immobili destinati consegnati</th>\n",
       "      <th>Immobili destinati non consegnati</th>\n",
       "      <th>Immobili in gestione</th>\n",
       "      <th>Immobili non confiscati in via autonoma</th>\n",
       "      <th>Immobili usciti dalla gestione</th>\n",
       "      <th>Totale immobili</th>\n",
       "    </tr>\n",
       "    <tr>\n",
       "      <th>Regione</th>\n",
       "      <th></th>\n",
       "      <th></th>\n",
       "      <th></th>\n",
       "      <th></th>\n",
       "      <th></th>\n",
       "      <th></th>\n",
       "    </tr>\n",
       "  </thead>\n",
       "  <tbody>\n",
       "    <tr>\n",
       "      <th>Piemonte</th>\n",
       "      <td> 82</td>\n",
       "      <td> 19</td>\n",
       "      <td> 61</td>\n",
       "      <td> 0</td>\n",
       "      <td> 6</td>\n",
       "      <td> 168</td>\n",
       "    </tr>\n",
       "  </tbody>\n",
       "</table>\n",
       "</div>"
      ],
      "text/plain": [
       "          Immobili destinati consegnati  Immobili destinati non consegnati  \\\n",
       "Regione                                                                      \n",
       "Piemonte                             82                                 19   \n",
       "\n",
       "          Immobili in gestione  Immobili non confiscati in via autonoma  \\\n",
       "Regione                                                                   \n",
       "Piemonte                    61                                        0   \n",
       "\n",
       "          Immobili usciti dalla gestione  Totale immobili  \n",
       "Regione                                                    \n",
       "Piemonte                               6              168  "
      ]
     },
     "execution_count": 26,
     "metadata": {},
     "output_type": "execute_result"
    }
   ],
   "source": [
    "Piemonte_immobili"
   ]
  },
  {
   "cell_type": "code",
   "execution_count": 27,
   "metadata": {
    "collapsed": true
   },
   "outputs": [],
   "source": [
    "Piemonte_aziende = Piemonte[[\"Aziende in gestione\",\n",
    "                \"Aziende uscite dalla gestione\",\n",
    "                \"Totale aziende\"]]"
   ]
  },
  {
   "cell_type": "code",
   "execution_count": 28,
   "metadata": {
    "collapsed": false
   },
   "outputs": [
    {
     "data": {
      "text/html": [
       "<div style=\"max-height:1000px;max-width:1500px;overflow:auto;\">\n",
       "<table border=\"1\" class=\"dataframe\">\n",
       "  <thead>\n",
       "    <tr style=\"text-align: right;\">\n",
       "      <th></th>\n",
       "      <th>Aziende in gestione</th>\n",
       "      <th>Aziende uscite dalla gestione</th>\n",
       "      <th>Totale aziende</th>\n",
       "    </tr>\n",
       "    <tr>\n",
       "      <th>Regione</th>\n",
       "      <th></th>\n",
       "      <th></th>\n",
       "      <th></th>\n",
       "    </tr>\n",
       "  </thead>\n",
       "  <tbody>\n",
       "    <tr>\n",
       "      <th>Piemonte</th>\n",
       "      <td> 6</td>\n",
       "      <td> 7</td>\n",
       "      <td> 13</td>\n",
       "    </tr>\n",
       "  </tbody>\n",
       "</table>\n",
       "</div>"
      ],
      "text/plain": [
       "          Aziende in gestione  Aziende uscite dalla gestione  Totale aziende\n",
       "Regione                                                                     \n",
       "Piemonte                    6                              7              13"
      ]
     },
     "execution_count": 28,
     "metadata": {},
     "output_type": "execute_result"
    }
   ],
   "source": [
    "Piemonte_aziende"
   ]
  },
  {
   "cell_type": "code",
   "execution_count": null,
   "metadata": {
    "collapsed": true
   },
   "outputs": [],
   "source": []
  }
 ],
 "metadata": {
  "kernelspec": {
   "display_name": "Python 2",
   "language": "python",
   "name": "python2"
  },
  "language_info": {
   "codemirror_mode": {
    "name": "ipython",
    "version": 2
   },
   "file_extension": ".py",
   "mimetype": "text/x-python",
   "name": "python",
   "nbconvert_exporter": "python",
   "pygments_lexer": "ipython2",
   "version": "2.7.11"
  }
 },
 "nbformat": 4,
 "nbformat_minor": 0
}

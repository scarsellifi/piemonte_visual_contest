{
 "cells": [
  {
   "cell_type": "code",
   "execution_count": 1,
   "metadata": {
    "collapsed": true
   },
   "outputs": [],
   "source": [
    "import os\n",
    "import pandas as pd\n",
    "import urllib"
   ]
  },
  {
   "cell_type": "markdown",
   "metadata": {},
   "source": [
    "##Importazione dati da Confiscatibene.it"
   ]
  },
  {
   "cell_type": "code",
   "execution_count": 2,
   "metadata": {
    "collapsed": false
   },
   "outputs": [
    {
     "data": {
      "text/plain": [
       "('confiscatibene_per_stato.csv',\n",
       " <httplib.HTTPMessage instance at 0x000000000A906A08>)"
      ]
     },
     "execution_count": 2,
     "metadata": {},
     "output_type": "execute_result"
    }
   ],
   "source": [
    "confiscatibene_per_stato = \"http://www.confiscatibene.it/sites/default/files/20140721_confiscatibene_beni-per-provincia-e-stato_anbsc.csv\"\n",
    "urllib.urlretrieve(confiscatibene_per_stato, \"confiscatibene_per_stato.csv\")\n"
   ]
  },
  {
   "cell_type": "code",
   "execution_count": 4,
   "metadata": {
    "collapsed": false
   },
   "outputs": [],
   "source": [
    "df_confiscatibene_per_stato = pd.read_csv(\"confiscatibene_per_stato.csv\", sep=\",\")"
   ]
  },
  {
   "cell_type": "code",
   "execution_count": 48,
   "metadata": {
    "collapsed": false
   },
   "outputs": [],
   "source": [
    "Torino = df_confiscatibene_per_stato[df_confiscatibene_per_stato[\"Provincia\"] == \"Torino\"]\n",
    "Torino_immobili = Torino[[\"Immobili destinati consegnati\",\n",
    "                      \"Immobili destinati non consegnati\",\n",
    "                      \"Immobili in gestione\",\n",
    "                      \"Immobili non confiscati in via autonoma\",\n",
    "                      \"Immobili usciti dalla gestione\",\n",
    "                      \"Totale immobili\"]]\n"
   ]
  },
  {
   "cell_type": "markdown",
   "metadata": {},
   "source": [
    "##immobili confiscati Provincia di Torino, valori assoluti"
   ]
  },
  {
   "cell_type": "code",
   "execution_count": 49,
   "metadata": {
    "collapsed": false
   },
   "outputs": [
    {
     "data": {
      "text/html": [
       "<div style=\"max-height:1000px;max-width:1500px;overflow:auto;\">\n",
       "<table border=\"1\" class=\"dataframe\">\n",
       "  <thead>\n",
       "    <tr style=\"text-align: right;\">\n",
       "      <th></th>\n",
       "      <th>Immobili destinati consegnati</th>\n",
       "      <th>Immobili destinati non consegnati</th>\n",
       "      <th>Immobili in gestione</th>\n",
       "      <th>Immobili non confiscati in via autonoma</th>\n",
       "      <th>Immobili usciti dalla gestione</th>\n",
       "      <th>Totale immobili</th>\n",
       "    </tr>\n",
       "  </thead>\n",
       "  <tbody>\n",
       "    <tr>\n",
       "      <th>0</th>\n",
       "      <td> 58</td>\n",
       "      <td> 13</td>\n",
       "      <td> 49</td>\n",
       "      <td> 0</td>\n",
       "      <td> 5</td>\n",
       "      <td> 125</td>\n",
       "    </tr>\n",
       "  </tbody>\n",
       "</table>\n",
       "</div>"
      ],
      "text/plain": [
       "   Immobili destinati consegnati  Immobili destinati non consegnati  \\\n",
       "0                             58                                 13   \n",
       "\n",
       "   Immobili in gestione  Immobili non confiscati in via autonoma  \\\n",
       "0                    49                                        0   \n",
       "\n",
       "   Immobili usciti dalla gestione  Totale immobili  \n",
       "0                               5              125  "
      ]
     },
     "execution_count": 49,
     "metadata": {},
     "output_type": "execute_result"
    }
   ],
   "source": [
    "Torino_immobili"
   ]
  },
  {
   "cell_type": "markdown",
   "metadata": {},
   "source": [
    "##immobili confiscati Provincia di Torino, valori percentuali per stato"
   ]
  },
  {
   "cell_type": "code",
   "execution_count": 51,
   "metadata": {
    "collapsed": false
   },
   "outputs": [
    {
     "data": {
      "text/html": [
       "<div style=\"max-height:1000px;max-width:1500px;overflow:auto;\">\n",
       "<table border=\"1\" class=\"dataframe\">\n",
       "  <thead>\n",
       "    <tr style=\"text-align: right;\">\n",
       "      <th></th>\n",
       "      <th>Immobili destinati consegnati</th>\n",
       "      <th>Immobili destinati non consegnati</th>\n",
       "      <th>Immobili in gestione</th>\n",
       "      <th>Immobili non confiscati in via autonoma</th>\n",
       "      <th>Immobili usciti dalla gestione</th>\n",
       "      <th>Totale immobili</th>\n",
       "    </tr>\n",
       "  </thead>\n",
       "  <tbody>\n",
       "    <tr>\n",
       "      <th>0</th>\n",
       "      <td> 46.4</td>\n",
       "      <td> 10.4</td>\n",
       "      <td> 39.2</td>\n",
       "      <td> 0</td>\n",
       "      <td> 4</td>\n",
       "      <td> 100</td>\n",
       "    </tr>\n",
       "  </tbody>\n",
       "</table>\n",
       "</div>"
      ],
      "text/plain": [
       "   Immobili destinati consegnati  Immobili destinati non consegnati  \\\n",
       "0                           46.4                               10.4   \n",
       "\n",
       "   Immobili in gestione  Immobili non confiscati in via autonoma  \\\n",
       "0                  39.2                                        0   \n",
       "\n",
       "   Immobili usciti dalla gestione  Totale immobili  \n",
       "0                               4              100  "
      ]
     },
     "execution_count": 51,
     "metadata": {},
     "output_type": "execute_result"
    }
   ],
   "source": [
    "Torino_immobili.divide(Torino_immobili[\"Totale immobili\"], axis = 0) * 100"
   ]
  },
  {
   "cell_type": "code",
   "execution_count": 44,
   "metadata": {
    "collapsed": false
   },
   "outputs": [],
   "source": [
    "Torino_aziende = Torino[[\n",
    "                \"Aziende in gestione\",\n",
    "                \"Aziende uscite dalla gestione\",\n",
    "                \"Totale aziende\"]]"
   ]
  },
  {
   "cell_type": "code",
   "execution_count": 53,
   "metadata": {
    "collapsed": true
   },
   "outputs": [],
   "source": [
    "##Aziende confiscate Provincia di Torino, valori assoluti"
   ]
  },
  {
   "cell_type": "code",
   "execution_count": 45,
   "metadata": {
    "collapsed": false
   },
   "outputs": [
    {
     "data": {
      "text/html": [
       "<div style=\"max-height:1000px;max-width:1500px;overflow:auto;\">\n",
       "<table border=\"1\" class=\"dataframe\">\n",
       "  <thead>\n",
       "    <tr style=\"text-align: right;\">\n",
       "      <th></th>\n",
       "      <th>Aziende in gestione</th>\n",
       "      <th>Aziende uscite dalla gestione</th>\n",
       "      <th>Totale aziende</th>\n",
       "    </tr>\n",
       "  </thead>\n",
       "  <tbody>\n",
       "    <tr>\n",
       "      <th>0</th>\n",
       "      <td> 5</td>\n",
       "      <td> 5</td>\n",
       "      <td> 10</td>\n",
       "    </tr>\n",
       "  </tbody>\n",
       "</table>\n",
       "</div>"
      ],
      "text/plain": [
       "   Aziende in gestione  Aziende uscite dalla gestione  Totale aziende\n",
       "0                    5                              5              10"
      ]
     },
     "execution_count": 45,
     "metadata": {},
     "output_type": "execute_result"
    }
   ],
   "source": [
    "Torino_aziende"
   ]
  },
  {
   "cell_type": "code",
   "execution_count": 61,
   "metadata": {
    "collapsed": true
   },
   "outputs": [],
   "source": [
    "##Aziende confiscate Provincia di Torino, valori percentuali per stato"
   ]
  },
  {
   "cell_type": "code",
   "execution_count": 47,
   "metadata": {
    "collapsed": false
   },
   "outputs": [
    {
     "data": {
      "text/html": [
       "<div style=\"max-height:1000px;max-width:1500px;overflow:auto;\">\n",
       "<table border=\"1\" class=\"dataframe\">\n",
       "  <thead>\n",
       "    <tr style=\"text-align: right;\">\n",
       "      <th></th>\n",
       "      <th>Aziende in gestione</th>\n",
       "      <th>Aziende uscite dalla gestione</th>\n",
       "      <th>Totale aziende</th>\n",
       "    </tr>\n",
       "  </thead>\n",
       "  <tbody>\n",
       "    <tr>\n",
       "      <th>0</th>\n",
       "      <td> 50</td>\n",
       "      <td> 50</td>\n",
       "      <td> 100</td>\n",
       "    </tr>\n",
       "  </tbody>\n",
       "</table>\n",
       "</div>"
      ],
      "text/plain": [
       "   Aziende in gestione  Aziende uscite dalla gestione  Totale aziende\n",
       "0                   50                             50             100"
      ]
     },
     "execution_count": 47,
     "metadata": {},
     "output_type": "execute_result"
    }
   ],
   "source": [
    "Torino_aziende.divide(Torino_aziende[\"Totale aziende\"], axis = 0) * 100"
   ]
  },
  {
   "cell_type": "code",
   "execution_count": 23,
   "metadata": {
    "collapsed": true
   },
   "outputs": [],
   "source": [
    "Piemonte = (df_confiscatibene_per_stato[df_confiscatibene_per_stato[\"Regione\"] == \"Piemonte\"]).groupby([\"Regione\"]).sum()"
   ]
  },
  {
   "cell_type": "code",
   "execution_count": 25,
   "metadata": {
    "collapsed": false
   },
   "outputs": [],
   "source": [
    "Piemonte_immobili = Piemonte[[\"Immobili destinati consegnati\",\n",
    "                      \"Immobili destinati non consegnati\",\n",
    "                      \"Immobili in gestione\",\n",
    "                      \"Immobili non confiscati in via autonoma\",\n",
    "                      \"Immobili usciti dalla gestione\",\n",
    "                      \"Totale immobili\"]]"
   ]
  },
  {
   "cell_type": "markdown",
   "metadata": {},
   "source": [
    "##Immobili confiscate Regione Piemonte, valori assoluti"
   ]
  },
  {
   "cell_type": "code",
   "execution_count": 56,
   "metadata": {
    "collapsed": false
   },
   "outputs": [
    {
     "data": {
      "text/html": [
       "<div style=\"max-height:1000px;max-width:1500px;overflow:auto;\">\n",
       "<table border=\"1\" class=\"dataframe\">\n",
       "  <thead>\n",
       "    <tr style=\"text-align: right;\">\n",
       "      <th></th>\n",
       "      <th>Immobili destinati consegnati</th>\n",
       "      <th>Immobili destinati non consegnati</th>\n",
       "      <th>Immobili in gestione</th>\n",
       "      <th>Immobili non confiscati in via autonoma</th>\n",
       "      <th>Immobili usciti dalla gestione</th>\n",
       "      <th>Totale immobili</th>\n",
       "    </tr>\n",
       "    <tr>\n",
       "      <th>Regione</th>\n",
       "      <th></th>\n",
       "      <th></th>\n",
       "      <th></th>\n",
       "      <th></th>\n",
       "      <th></th>\n",
       "      <th></th>\n",
       "    </tr>\n",
       "  </thead>\n",
       "  <tbody>\n",
       "    <tr>\n",
       "      <th>Piemonte</th>\n",
       "      <td> 82</td>\n",
       "      <td> 19</td>\n",
       "      <td> 61</td>\n",
       "      <td> 0</td>\n",
       "      <td> 6</td>\n",
       "      <td> 168</td>\n",
       "    </tr>\n",
       "  </tbody>\n",
       "</table>\n",
       "</div>"
      ],
      "text/plain": [
       "          Immobili destinati consegnati  Immobili destinati non consegnati  \\\n",
       "Regione                                                                      \n",
       "Piemonte                             82                                 19   \n",
       "\n",
       "          Immobili in gestione  Immobili non confiscati in via autonoma  \\\n",
       "Regione                                                                   \n",
       "Piemonte                    61                                        0   \n",
       "\n",
       "          Immobili usciti dalla gestione  Totale immobili  \n",
       "Regione                                                    \n",
       "Piemonte                               6              168  "
      ]
     },
     "execution_count": 56,
     "metadata": {},
     "output_type": "execute_result"
    }
   ],
   "source": [
    "Piemonte_immobili"
   ]
  },
  {
   "cell_type": "markdown",
   "metadata": {},
   "source": [
    "##Immobili confiscate Regione Piemonte, valori percentuali per stato"
   ]
  },
  {
   "cell_type": "code",
   "execution_count": 57,
   "metadata": {
    "collapsed": false
   },
   "outputs": [
    {
     "data": {
      "text/html": [
       "<div style=\"max-height:1000px;max-width:1500px;overflow:auto;\">\n",
       "<table border=\"1\" class=\"dataframe\">\n",
       "  <thead>\n",
       "    <tr style=\"text-align: right;\">\n",
       "      <th></th>\n",
       "      <th>Immobili destinati consegnati</th>\n",
       "      <th>Immobili destinati non consegnati</th>\n",
       "      <th>Immobili in gestione</th>\n",
       "      <th>Immobili non confiscati in via autonoma</th>\n",
       "      <th>Immobili usciti dalla gestione</th>\n",
       "      <th>Totale immobili</th>\n",
       "    </tr>\n",
       "    <tr>\n",
       "      <th>Regione</th>\n",
       "      <th></th>\n",
       "      <th></th>\n",
       "      <th></th>\n",
       "      <th></th>\n",
       "      <th></th>\n",
       "      <th></th>\n",
       "    </tr>\n",
       "  </thead>\n",
       "  <tbody>\n",
       "    <tr>\n",
       "      <th>Piemonte</th>\n",
       "      <td> 48.809524</td>\n",
       "      <td> 11.309524</td>\n",
       "      <td> 36.309524</td>\n",
       "      <td> 0</td>\n",
       "      <td> 3.571429</td>\n",
       "      <td> 100</td>\n",
       "    </tr>\n",
       "  </tbody>\n",
       "</table>\n",
       "</div>"
      ],
      "text/plain": [
       "          Immobili destinati consegnati  Immobili destinati non consegnati  \\\n",
       "Regione                                                                      \n",
       "Piemonte                      48.809524                          11.309524   \n",
       "\n",
       "          Immobili in gestione  Immobili non confiscati in via autonoma  \\\n",
       "Regione                                                                   \n",
       "Piemonte             36.309524                                        0   \n",
       "\n",
       "          Immobili usciti dalla gestione  Totale immobili  \n",
       "Regione                                                    \n",
       "Piemonte                        3.571429              100  "
      ]
     },
     "execution_count": 57,
     "metadata": {},
     "output_type": "execute_result"
    }
   ],
   "source": [
    "Piemonte_immobili.divide(Piemonte_immobili[\"Totale immobili\"], axis = 0) * 100"
   ]
  },
  {
   "cell_type": "code",
   "execution_count": 58,
   "metadata": {
    "collapsed": true
   },
   "outputs": [],
   "source": [
    "Piemonte_aziende = Piemonte[[\"Aziende in gestione\",\n",
    "                \"Aziende uscite dalla gestione\",\n",
    "                \"Totale aziende\"]]"
   ]
  },
  {
   "cell_type": "markdown",
   "metadata": {},
   "source": [
    "##Aziende confiscate Regione Piemonte, valori assoluti"
   ]
  },
  {
   "cell_type": "code",
   "execution_count": 59,
   "metadata": {
    "collapsed": false
   },
   "outputs": [
    {
     "data": {
      "text/html": [
       "<div style=\"max-height:1000px;max-width:1500px;overflow:auto;\">\n",
       "<table border=\"1\" class=\"dataframe\">\n",
       "  <thead>\n",
       "    <tr style=\"text-align: right;\">\n",
       "      <th></th>\n",
       "      <th>Aziende in gestione</th>\n",
       "      <th>Aziende uscite dalla gestione</th>\n",
       "      <th>Totale aziende</th>\n",
       "    </tr>\n",
       "    <tr>\n",
       "      <th>Regione</th>\n",
       "      <th></th>\n",
       "      <th></th>\n",
       "      <th></th>\n",
       "    </tr>\n",
       "  </thead>\n",
       "  <tbody>\n",
       "    <tr>\n",
       "      <th>Piemonte</th>\n",
       "      <td> 6</td>\n",
       "      <td> 7</td>\n",
       "      <td> 13</td>\n",
       "    </tr>\n",
       "  </tbody>\n",
       "</table>\n",
       "</div>"
      ],
      "text/plain": [
       "          Aziende in gestione  Aziende uscite dalla gestione  Totale aziende\n",
       "Regione                                                                     \n",
       "Piemonte                    6                              7              13"
      ]
     },
     "execution_count": 59,
     "metadata": {},
     "output_type": "execute_result"
    }
   ],
   "source": [
    "Piemonte_aziende"
   ]
  },
  {
   "cell_type": "markdown",
   "metadata": {},
   "source": [
    "##Aziende confiscate Regione Piemonte, valori percentuali per stato"
   ]
  },
  {
   "cell_type": "code",
   "execution_count": 60,
   "metadata": {
    "collapsed": false
   },
   "outputs": [
    {
     "data": {
      "text/html": [
       "<div style=\"max-height:1000px;max-width:1500px;overflow:auto;\">\n",
       "<table border=\"1\" class=\"dataframe\">\n",
       "  <thead>\n",
       "    <tr style=\"text-align: right;\">\n",
       "      <th></th>\n",
       "      <th>Aziende in gestione</th>\n",
       "      <th>Aziende uscite dalla gestione</th>\n",
       "      <th>Totale aziende</th>\n",
       "    </tr>\n",
       "    <tr>\n",
       "      <th>Regione</th>\n",
       "      <th></th>\n",
       "      <th></th>\n",
       "      <th></th>\n",
       "    </tr>\n",
       "  </thead>\n",
       "  <tbody>\n",
       "    <tr>\n",
       "      <th>Piemonte</th>\n",
       "      <td> 46.153846</td>\n",
       "      <td> 53.846154</td>\n",
       "      <td> 100</td>\n",
       "    </tr>\n",
       "  </tbody>\n",
       "</table>\n",
       "</div>"
      ],
      "text/plain": [
       "          Aziende in gestione  Aziende uscite dalla gestione  Totale aziende\n",
       "Regione                                                                     \n",
       "Piemonte            46.153846                      53.846154             100"
      ]
     },
     "execution_count": 60,
     "metadata": {},
     "output_type": "execute_result"
    }
   ],
   "source": [
    "Piemonte_aziende.divide(Piemonte_aziende[\"Totale aziende\"], axis = 0) * 100"
   ]
  },
  {
   "cell_type": "code",
   "execution_count": null,
   "metadata": {
    "collapsed": true
   },
   "outputs": [],
   "source": []
  },
  {
   "cell_type": "code",
   "execution_count": null,
   "metadata": {
    "collapsed": true
   },
   "outputs": [],
   "source": []
  }
 ],
 "metadata": {
  "kernelspec": {
   "display_name": "Python 2",
   "language": "python",
   "name": "python2"
  },
  "language_info": {
   "codemirror_mode": {
    "name": "ipython",
    "version": 2
   },
   "file_extension": ".py",
   "mimetype": "text/x-python",
   "name": "python",
   "nbconvert_exporter": "python",
   "pygments_lexer": "ipython2",
   "version": "2.7.11"
  }
 },
 "nbformat": 4,
 "nbformat_minor": 0
}
